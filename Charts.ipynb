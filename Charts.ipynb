{
 "cells": [
  {
   "cell_type": "code",
   "execution_count": 1,
   "metadata": {
    "collapsed": true
   },
   "outputs": [],
   "source": []
  },
  {
   "cell_type": "code",
   "execution_count": 2,
   "metadata": {
    "collapsed": true
   },
   "outputs": [],
   "source": []
  },
  {
   "cell_type": "code",
   "execution_count": 3,
   "metadata": {
    "collapsed": true
   },
   "outputs": [],
   "source": []
  },
  {
   "cell_type": "code",
   "execution_count": null,
   "metadata": {
    "collapsed": true
   },
   "outputs": [],
   "source": []
  },
  {
   "cell_type": "code",
   "execution_count": null,
   "metadata": {
    "collapsed": false
   },
   "outputs": [],
   "source": []
  },
  {
   "cell_type": "code",
   "execution_count": 65,
   "metadata": {
    "collapsed": false
   },
   "outputs": [],
   "source": [
    "def buildChart(data):\n",
    "    option = {\n",
    "        'xAxis': {'data': []},\n",
    "        'yAxis': {},\n",
    "        'series': []\n",
    "    }\n",
    "    idxs = {}\n",
    "\n",
    "    for i in data:\n",
    "        option['xAxis']['data'].append(i['_id'])\n",
    "        for k in i.keys():\n",
    "            if k != '_id':\n",
    "                if k not in idxs:\n",
    "                    idxs[k] = len(option['series'])\n",
    "                    option['series'].append({'data': []})\n",
    "                option['series'][idxs[k]]['name'] = k\n",
    "                option['series'][idxs[k]]['type'] = 'line'\n",
    "                option['series'][idxs[k]]['data'].append(i[k])\n",
    "    return option"
   ]
  },
  {
   "cell_type": "code",
   "execution_count": 66,
   "metadata": {
    "collapsed": false
   },
   "outputs": [
    {
     "data": {
      "text/plain": [
       "{'series': [{'data': ['17',\n",
       "    '17',\n",
       "    '17',\n",
       "    '17',\n",
       "    '18',\n",
       "    '18',\n",
       "    '17',\n",
       "    '17',\n",
       "    '17',\n",
       "    '17',\n",
       "    '17',\n",
       "    '17',\n",
       "    '17',\n",
       "    '18',\n",
       "    '17',\n",
       "    '17',\n",
       "    '17',\n",
       "    '17',\n",
       "    '17',\n",
       "    '18',\n",
       "    '18',\n",
       "    '17',\n",
       "    '18',\n",
       "    '17',\n",
       "    '17',\n",
       "    '17',\n",
       "    '17',\n",
       "    '17',\n",
       "    '17',\n",
       "    '18',\n",
       "    '18',\n",
       "    '18',\n",
       "    '17',\n",
       "    '18',\n",
       "    '17',\n",
       "    '17',\n",
       "    '17',\n",
       "    '17',\n",
       "    '17',\n",
       "    '17',\n",
       "    '17',\n",
       "    '17',\n",
       "    '17',\n",
       "    '17',\n",
       "    '17',\n",
       "    '17',\n",
       "    '18',\n",
       "    '17',\n",
       "    '18',\n",
       "    '18'],\n",
       "   'name': 'temperature',\n",
       "   'type': 'line'},\n",
       "  {'data': ['24',\n",
       "    '24',\n",
       "    '24',\n",
       "    '24',\n",
       "    '37',\n",
       "    '35',\n",
       "    '24',\n",
       "    '24',\n",
       "    '24',\n",
       "    '24',\n",
       "    '24',\n",
       "    '24',\n",
       "    '24',\n",
       "    '24',\n",
       "    '24',\n",
       "    '24',\n",
       "    '24',\n",
       "    '24',\n",
       "    '24',\n",
       "    '24',\n",
       "    '24',\n",
       "    '24',\n",
       "    '24',\n",
       "    '24',\n",
       "    '24',\n",
       "    '24',\n",
       "    '24',\n",
       "    '24',\n",
       "    '24',\n",
       "    '24',\n",
       "    '24',\n",
       "    '24',\n",
       "    '24',\n",
       "    '24',\n",
       "    '24',\n",
       "    '24',\n",
       "    '24',\n",
       "    '24',\n",
       "    '24',\n",
       "    '24',\n",
       "    '24',\n",
       "    '24',\n",
       "    '24',\n",
       "    '24',\n",
       "    '24',\n",
       "    '24',\n",
       "    '24',\n",
       "    '24',\n",
       "    '24',\n",
       "    '24'],\n",
       "   'name': 'humidity',\n",
       "   'type': 'line'}],\n",
       " 'xAxis': {'data': ['01-11-2016 15:39',\n",
       "   '01-11-2016 15:40',\n",
       "   '01-11-2016 15:41',\n",
       "   '01-11-2016 15:42',\n",
       "   '01-11-2016 15:44',\n",
       "   '01-11-2016 15:45',\n",
       "   '01-11-2016 15:50',\n",
       "   '01-11-2016 15:51',\n",
       "   '01-11-2016 15:52',\n",
       "   '01-11-2016 15:53',\n",
       "   '01-11-2016 15:54',\n",
       "   '01-11-2016 15:55',\n",
       "   '01-11-2016 15:56',\n",
       "   '01-11-2016 15:57',\n",
       "   '01-11-2016 15:58',\n",
       "   '01-11-2016 15:59',\n",
       "   '01-11-2016 16:00',\n",
       "   '01-11-2016 16:02',\n",
       "   '01-11-2016 16:03',\n",
       "   '01-11-2016 16:04',\n",
       "   '01-11-2016 16:05',\n",
       "   '01-11-2016 16:06',\n",
       "   '01-11-2016 16:07',\n",
       "   '01-11-2016 16:08',\n",
       "   '01-11-2016 16:09',\n",
       "   '01-11-2016 16:10',\n",
       "   '01-11-2016 16:11',\n",
       "   '01-11-2016 16:12',\n",
       "   '01-11-2016 16:13',\n",
       "   '01-11-2016 16:14',\n",
       "   '01-11-2016 16:15',\n",
       "   '01-11-2016 16:16',\n",
       "   '01-11-2016 16:17',\n",
       "   '01-11-2016 16:18',\n",
       "   '01-11-2016 16:19',\n",
       "   '01-11-2016 16:20',\n",
       "   '01-11-2016 16:21',\n",
       "   '01-11-2016 16:22',\n",
       "   '01-11-2016 16:23',\n",
       "   '01-11-2016 16:24',\n",
       "   '01-11-2016 16:25',\n",
       "   '01-11-2016 16:26',\n",
       "   '01-11-2016 16:27',\n",
       "   '01-11-2016 16:28',\n",
       "   '01-11-2016 16:29',\n",
       "   '01-11-2016 16:30',\n",
       "   '01-11-2016 16:31',\n",
       "   '01-11-2016 16:32',\n",
       "   '01-11-2016 16:33',\n",
       "   '01-11-2016 16:34']},\n",
       " 'yAxis': {}}"
      ]
     },
     "execution_count": 66,
     "metadata": {},
     "output_type": "execute_result"
    }
   ],
   "source": [
    "from pymongo import MongoClient\n",
    "client = MongoClient()\n",
    "db = client['test']\n",
    "col = db.test_collection\n",
    "buildChart(col.find())"
   ]
  },
  {
   "cell_type": "code",
   "execution_count": null,
   "metadata": {
    "collapsed": true
   },
   "outputs": [],
   "source": []
  }
 ],
 "metadata": {
  "kernelspec": {
   "display_name": "Python 3",
   "language": "python",
   "name": "python3"
  },
  "language_info": {
   "codemirror_mode": {
    "name": "ipython",
    "version": 3
   },
   "file_extension": ".py",
   "mimetype": "text/x-python",
   "name": "python",
   "nbconvert_exporter": "python",
   "pygments_lexer": "ipython3",
   "version": "3.4.4"
  }
 },
 "nbformat": 4,
 "nbformat_minor": 1
}
